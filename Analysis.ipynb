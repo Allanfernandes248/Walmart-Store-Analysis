{
 "cells": [
  {
   "cell_type": "markdown",
   "metadata": {},
   "source": [
    "<h1>Walmart Stores Analysis"
   ]
  },
  {
   "cell_type": "markdown",
   "metadata": {},
   "source": [
    "<i>Head to the bottom of the page for <b>Key Takeaways</b> of this project"
   ]
  },
  {
   "cell_type": "code",
   "execution_count": 1,
   "metadata": {},
   "outputs": [],
   "source": [
    "# importing libraries \n",
    "import pandas as pd \n",
    "import matplotlib.pyplot as plt \n",
    "import numpy as np \n"
   ]
  },
  {
   "cell_type": "code",
   "execution_count": 2,
   "metadata": {},
   "outputs": [
    {
     "data": {
      "text/html": [
       "<div>\n",
       "<style scoped>\n",
       "    .dataframe tbody tr th:only-of-type {\n",
       "        vertical-align: middle;\n",
       "    }\n",
       "\n",
       "    .dataframe tbody tr th {\n",
       "        vertical-align: top;\n",
       "    }\n",
       "\n",
       "    .dataframe thead th {\n",
       "        text-align: right;\n",
       "    }\n",
       "</style>\n",
       "<table border=\"1\" class=\"dataframe\">\n",
       "  <thead>\n",
       "    <tr style=\"text-align: right;\">\n",
       "      <th></th>\n",
       "      <th>Store</th>\n",
       "      <th>Date</th>\n",
       "      <th>Weekly_Sales</th>\n",
       "      <th>Holiday_Flag</th>\n",
       "      <th>Temperature</th>\n",
       "      <th>Fuel_Price</th>\n",
       "      <th>CPI</th>\n",
       "      <th>Unemployment</th>\n",
       "    </tr>\n",
       "  </thead>\n",
       "  <tbody>\n",
       "    <tr>\n",
       "      <th>0</th>\n",
       "      <td>1</td>\n",
       "      <td>05-02-2010</td>\n",
       "      <td>1643690.90</td>\n",
       "      <td>0</td>\n",
       "      <td>42.31</td>\n",
       "      <td>2.572</td>\n",
       "      <td>211.096358</td>\n",
       "      <td>8.106</td>\n",
       "    </tr>\n",
       "    <tr>\n",
       "      <th>1</th>\n",
       "      <td>1</td>\n",
       "      <td>12-02-2010</td>\n",
       "      <td>1641957.44</td>\n",
       "      <td>1</td>\n",
       "      <td>38.51</td>\n",
       "      <td>2.548</td>\n",
       "      <td>211.242170</td>\n",
       "      <td>8.106</td>\n",
       "    </tr>\n",
       "    <tr>\n",
       "      <th>2</th>\n",
       "      <td>1</td>\n",
       "      <td>19-02-2010</td>\n",
       "      <td>1611968.17</td>\n",
       "      <td>0</td>\n",
       "      <td>39.93</td>\n",
       "      <td>2.514</td>\n",
       "      <td>211.289143</td>\n",
       "      <td>8.106</td>\n",
       "    </tr>\n",
       "    <tr>\n",
       "      <th>3</th>\n",
       "      <td>1</td>\n",
       "      <td>26-02-2010</td>\n",
       "      <td>1409727.59</td>\n",
       "      <td>0</td>\n",
       "      <td>46.63</td>\n",
       "      <td>2.561</td>\n",
       "      <td>211.319643</td>\n",
       "      <td>8.106</td>\n",
       "    </tr>\n",
       "    <tr>\n",
       "      <th>4</th>\n",
       "      <td>1</td>\n",
       "      <td>05-03-2010</td>\n",
       "      <td>1554806.68</td>\n",
       "      <td>0</td>\n",
       "      <td>46.50</td>\n",
       "      <td>2.625</td>\n",
       "      <td>211.350143</td>\n",
       "      <td>8.106</td>\n",
       "    </tr>\n",
       "  </tbody>\n",
       "</table>\n",
       "</div>"
      ],
      "text/plain": [
       "   Store        Date  Weekly_Sales  Holiday_Flag  Temperature  Fuel_Price  \\\n",
       "0      1  05-02-2010    1643690.90             0        42.31       2.572   \n",
       "1      1  12-02-2010    1641957.44             1        38.51       2.548   \n",
       "2      1  19-02-2010    1611968.17             0        39.93       2.514   \n",
       "3      1  26-02-2010    1409727.59             0        46.63       2.561   \n",
       "4      1  05-03-2010    1554806.68             0        46.50       2.625   \n",
       "\n",
       "          CPI  Unemployment  \n",
       "0  211.096358         8.106  \n",
       "1  211.242170         8.106  \n",
       "2  211.289143         8.106  \n",
       "3  211.319643         8.106  \n",
       "4  211.350143         8.106  "
      ]
     },
     "execution_count": 2,
     "metadata": {},
     "output_type": "execute_result"
    }
   ],
   "source": [
    "df = pd.read_csv('./Walmart.csv')\n",
    "df.head()"
   ]
  },
  {
   "cell_type": "code",
   "execution_count": 3,
   "metadata": {},
   "outputs": [
    {
     "name": "stdout",
     "output_type": "stream",
     "text": [
      "<class 'pandas.core.frame.DataFrame'>\n",
      "RangeIndex: 6435 entries, 0 to 6434\n",
      "Data columns (total 8 columns):\n",
      " #   Column        Non-Null Count  Dtype  \n",
      "---  ------        --------------  -----  \n",
      " 0   Store         6435 non-null   int64  \n",
      " 1   Date          6435 non-null   object \n",
      " 2   Weekly_Sales  6435 non-null   float64\n",
      " 3   Holiday_Flag  6435 non-null   int64  \n",
      " 4   Temperature   6435 non-null   float64\n",
      " 5   Fuel_Price    6435 non-null   float64\n",
      " 6   CPI           6435 non-null   float64\n",
      " 7   Unemployment  6435 non-null   float64\n",
      "dtypes: float64(5), int64(2), object(1)\n",
      "memory usage: 402.3+ KB\n"
     ]
    }
   ],
   "source": [
    "df.info()"
   ]
  },
  {
   "cell_type": "markdown",
   "metadata": {},
   "source": [
    "<h1> Figuring out the Top stores of Walmart "
   ]
  },
  {
   "cell_type": "code",
   "execution_count": 4,
   "metadata": {},
   "outputs": [
    {
     "data": {
      "text/html": [
       "<div>\n",
       "<style scoped>\n",
       "    .dataframe tbody tr th:only-of-type {\n",
       "        vertical-align: middle;\n",
       "    }\n",
       "\n",
       "    .dataframe tbody tr th {\n",
       "        vertical-align: top;\n",
       "    }\n",
       "\n",
       "    .dataframe thead th {\n",
       "        text-align: right;\n",
       "    }\n",
       "</style>\n",
       "<table border=\"1\" class=\"dataframe\">\n",
       "  <thead>\n",
       "    <tr style=\"text-align: right;\">\n",
       "      <th></th>\n",
       "      <th>sum</th>\n",
       "      <th>count</th>\n",
       "    </tr>\n",
       "    <tr>\n",
       "      <th>Store</th>\n",
       "      <th></th>\n",
       "      <th></th>\n",
       "    </tr>\n",
       "  </thead>\n",
       "  <tbody>\n",
       "    <tr>\n",
       "      <th>20</th>\n",
       "      <td>3.013978e+08</td>\n",
       "      <td>143</td>\n",
       "    </tr>\n",
       "    <tr>\n",
       "      <th>4</th>\n",
       "      <td>2.995440e+08</td>\n",
       "      <td>143</td>\n",
       "    </tr>\n",
       "    <tr>\n",
       "      <th>14</th>\n",
       "      <td>2.889999e+08</td>\n",
       "      <td>143</td>\n",
       "    </tr>\n",
       "    <tr>\n",
       "      <th>13</th>\n",
       "      <td>2.865177e+08</td>\n",
       "      <td>143</td>\n",
       "    </tr>\n",
       "    <tr>\n",
       "      <th>2</th>\n",
       "      <td>2.753824e+08</td>\n",
       "      <td>143</td>\n",
       "    </tr>\n",
       "    <tr>\n",
       "      <th>10</th>\n",
       "      <td>2.716177e+08</td>\n",
       "      <td>143</td>\n",
       "    </tr>\n",
       "    <tr>\n",
       "      <th>27</th>\n",
       "      <td>2.538559e+08</td>\n",
       "      <td>143</td>\n",
       "    </tr>\n",
       "    <tr>\n",
       "      <th>6</th>\n",
       "      <td>2.237561e+08</td>\n",
       "      <td>143</td>\n",
       "    </tr>\n",
       "    <tr>\n",
       "      <th>1</th>\n",
       "      <td>2.224028e+08</td>\n",
       "      <td>143</td>\n",
       "    </tr>\n",
       "    <tr>\n",
       "      <th>39</th>\n",
       "      <td>2.074455e+08</td>\n",
       "      <td>143</td>\n",
       "    </tr>\n",
       "    <tr>\n",
       "      <th>19</th>\n",
       "      <td>2.066349e+08</td>\n",
       "      <td>143</td>\n",
       "    </tr>\n",
       "    <tr>\n",
       "      <th>31</th>\n",
       "      <td>1.996139e+08</td>\n",
       "      <td>143</td>\n",
       "    </tr>\n",
       "    <tr>\n",
       "      <th>23</th>\n",
       "      <td>1.987506e+08</td>\n",
       "      <td>143</td>\n",
       "    </tr>\n",
       "    <tr>\n",
       "      <th>24</th>\n",
       "      <td>1.940160e+08</td>\n",
       "      <td>143</td>\n",
       "    </tr>\n",
       "    <tr>\n",
       "      <th>11</th>\n",
       "      <td>1.939628e+08</td>\n",
       "      <td>143</td>\n",
       "    </tr>\n",
       "    <tr>\n",
       "      <th>28</th>\n",
       "      <td>1.892637e+08</td>\n",
       "      <td>143</td>\n",
       "    </tr>\n",
       "    <tr>\n",
       "      <th>41</th>\n",
       "      <td>1.813419e+08</td>\n",
       "      <td>143</td>\n",
       "    </tr>\n",
       "    <tr>\n",
       "      <th>32</th>\n",
       "      <td>1.668192e+08</td>\n",
       "      <td>143</td>\n",
       "    </tr>\n",
       "    <tr>\n",
       "      <th>18</th>\n",
       "      <td>1.551147e+08</td>\n",
       "      <td>143</td>\n",
       "    </tr>\n",
       "    <tr>\n",
       "      <th>22</th>\n",
       "      <td>1.470756e+08</td>\n",
       "      <td>143</td>\n",
       "    </tr>\n",
       "    <tr>\n",
       "      <th>12</th>\n",
       "      <td>1.442872e+08</td>\n",
       "      <td>143</td>\n",
       "    </tr>\n",
       "    <tr>\n",
       "      <th>26</th>\n",
       "      <td>1.434164e+08</td>\n",
       "      <td>143</td>\n",
       "    </tr>\n",
       "    <tr>\n",
       "      <th>34</th>\n",
       "      <td>1.382498e+08</td>\n",
       "      <td>143</td>\n",
       "    </tr>\n",
       "    <tr>\n",
       "      <th>40</th>\n",
       "      <td>1.378703e+08</td>\n",
       "      <td>143</td>\n",
       "    </tr>\n",
       "    <tr>\n",
       "      <th>35</th>\n",
       "      <td>1.315207e+08</td>\n",
       "      <td>143</td>\n",
       "    </tr>\n",
       "    <tr>\n",
       "      <th>8</th>\n",
       "      <td>1.299512e+08</td>\n",
       "      <td>143</td>\n",
       "    </tr>\n",
       "    <tr>\n",
       "      <th>17</th>\n",
       "      <td>1.277821e+08</td>\n",
       "      <td>143</td>\n",
       "    </tr>\n",
       "    <tr>\n",
       "      <th>45</th>\n",
       "      <td>1.123953e+08</td>\n",
       "      <td>143</td>\n",
       "    </tr>\n",
       "    <tr>\n",
       "      <th>21</th>\n",
       "      <td>1.081179e+08</td>\n",
       "      <td>143</td>\n",
       "    </tr>\n",
       "    <tr>\n",
       "      <th>25</th>\n",
       "      <td>1.010612e+08</td>\n",
       "      <td>143</td>\n",
       "    </tr>\n",
       "    <tr>\n",
       "      <th>43</th>\n",
       "      <td>9.056544e+07</td>\n",
       "      <td>143</td>\n",
       "    </tr>\n",
       "    <tr>\n",
       "      <th>15</th>\n",
       "      <td>8.913368e+07</td>\n",
       "      <td>143</td>\n",
       "    </tr>\n",
       "    <tr>\n",
       "      <th>7</th>\n",
       "      <td>8.159828e+07</td>\n",
       "      <td>143</td>\n",
       "    </tr>\n",
       "    <tr>\n",
       "      <th>42</th>\n",
       "      <td>7.956575e+07</td>\n",
       "      <td>143</td>\n",
       "    </tr>\n",
       "    <tr>\n",
       "      <th>9</th>\n",
       "      <td>7.778922e+07</td>\n",
       "      <td>143</td>\n",
       "    </tr>\n",
       "    <tr>\n",
       "      <th>29</th>\n",
       "      <td>7.714155e+07</td>\n",
       "      <td>143</td>\n",
       "    </tr>\n",
       "    <tr>\n",
       "      <th>16</th>\n",
       "      <td>7.425243e+07</td>\n",
       "      <td>143</td>\n",
       "    </tr>\n",
       "    <tr>\n",
       "      <th>37</th>\n",
       "      <td>7.420274e+07</td>\n",
       "      <td>143</td>\n",
       "    </tr>\n",
       "    <tr>\n",
       "      <th>30</th>\n",
       "      <td>6.271689e+07</td>\n",
       "      <td>143</td>\n",
       "    </tr>\n",
       "    <tr>\n",
       "      <th>3</th>\n",
       "      <td>5.758674e+07</td>\n",
       "      <td>143</td>\n",
       "    </tr>\n",
       "    <tr>\n",
       "      <th>38</th>\n",
       "      <td>5.515963e+07</td>\n",
       "      <td>143</td>\n",
       "    </tr>\n",
       "    <tr>\n",
       "      <th>36</th>\n",
       "      <td>5.341221e+07</td>\n",
       "      <td>143</td>\n",
       "    </tr>\n",
       "    <tr>\n",
       "      <th>5</th>\n",
       "      <td>4.547569e+07</td>\n",
       "      <td>143</td>\n",
       "    </tr>\n",
       "    <tr>\n",
       "      <th>44</th>\n",
       "      <td>4.329309e+07</td>\n",
       "      <td>143</td>\n",
       "    </tr>\n",
       "    <tr>\n",
       "      <th>33</th>\n",
       "      <td>3.716022e+07</td>\n",
       "      <td>143</td>\n",
       "    </tr>\n",
       "  </tbody>\n",
       "</table>\n",
       "</div>"
      ],
      "text/plain": [
       "                sum  count\n",
       "Store                     \n",
       "20     3.013978e+08    143\n",
       "4      2.995440e+08    143\n",
       "14     2.889999e+08    143\n",
       "13     2.865177e+08    143\n",
       "2      2.753824e+08    143\n",
       "10     2.716177e+08    143\n",
       "27     2.538559e+08    143\n",
       "6      2.237561e+08    143\n",
       "1      2.224028e+08    143\n",
       "39     2.074455e+08    143\n",
       "19     2.066349e+08    143\n",
       "31     1.996139e+08    143\n",
       "23     1.987506e+08    143\n",
       "24     1.940160e+08    143\n",
       "11     1.939628e+08    143\n",
       "28     1.892637e+08    143\n",
       "41     1.813419e+08    143\n",
       "32     1.668192e+08    143\n",
       "18     1.551147e+08    143\n",
       "22     1.470756e+08    143\n",
       "12     1.442872e+08    143\n",
       "26     1.434164e+08    143\n",
       "34     1.382498e+08    143\n",
       "40     1.378703e+08    143\n",
       "35     1.315207e+08    143\n",
       "8      1.299512e+08    143\n",
       "17     1.277821e+08    143\n",
       "45     1.123953e+08    143\n",
       "21     1.081179e+08    143\n",
       "25     1.010612e+08    143\n",
       "43     9.056544e+07    143\n",
       "15     8.913368e+07    143\n",
       "7      8.159828e+07    143\n",
       "42     7.956575e+07    143\n",
       "9      7.778922e+07    143\n",
       "29     7.714155e+07    143\n",
       "16     7.425243e+07    143\n",
       "37     7.420274e+07    143\n",
       "30     6.271689e+07    143\n",
       "3      5.758674e+07    143\n",
       "38     5.515963e+07    143\n",
       "36     5.341221e+07    143\n",
       "5      4.547569e+07    143\n",
       "44     4.329309e+07    143\n",
       "33     3.716022e+07    143"
      ]
     },
     "execution_count": 4,
     "metadata": {},
     "output_type": "execute_result"
    }
   ],
   "source": [
    "# df_store_rank = df.groupby('Store')['Weekly_Sales'].sum()\n",
    "df_store_rank = df.groupby('Store')['Weekly_Sales'].agg(['sum','count'])\n",
    "df_store_rank=df_store_rank.sort_values('sum',ascending=False)\n",
    "df_store_rank\n",
    "\n",
    "\n"
   ]
  },
  {
   "cell_type": "code",
   "execution_count": 49,
   "metadata": {},
   "outputs": [],
   "source": [
    "# retrieving the top and bottom performing stores based on sales \n",
    "stores_id_rank = df_store_rank.index\n",
    "top_stores_id = stores_id_rank[:3]\n",
    "bottom_stores_id = stores_id_rank[-3:]"
   ]
  },
  {
   "cell_type": "markdown",
   "metadata": {},
   "source": [
    "<p>WE can say that the top stores are Store number 20,4 and 14 and bottom stores are 5,44,33 \n",
    "on the basis if weekly sales  "
   ]
  },
  {
   "cell_type": "code",
   "execution_count": 50,
   "metadata": {},
   "outputs": [],
   "source": [
    "\n",
    "# creating separate dataframes consisting of store data based on store id  \n",
    "\n",
    "# selecting rows based on condition\n",
    "top_stores_list = df[df['Store'].isin(top_stores_id)]\n",
    "bottom_stores_list = df[df['Store'].isin(bottom_stores_id)]"
   ]
  },
  {
   "cell_type": "markdown",
   "metadata": {},
   "source": [
    "<h3> Visualise Top and Bottom Performing Stores"
   ]
  },
  {
   "cell_type": "code",
   "execution_count": 74,
   "metadata": {},
   "outputs": [
    {
     "name": "stderr",
     "output_type": "stream",
     "text": [
      "C:\\Users\\lenovo\\AppData\\Local\\Temp/ipykernel_18948/358100691.py:5: SettingWithCopyWarning: \n",
      "A value is trying to be set on a copy of a slice from a DataFrame.\n",
      "Try using .loc[row_indexer,col_indexer] = value instead\n",
      "\n",
      "See the caveats in the documentation: https://pandas.pydata.org/pandas-docs/stable/user_guide/indexing.html#returning-a-view-versus-a-copy\n",
      "  top_stores_list['Weekly_Sales_inLakhs'] = top_stores_list['Weekly_Sales'].apply(lambda x : x/100000)\n",
      "C:\\Users\\lenovo\\AppData\\Local\\Temp/ipykernel_18948/358100691.py:6: SettingWithCopyWarning: \n",
      "A value is trying to be set on a copy of a slice from a DataFrame.\n",
      "Try using .loc[row_indexer,col_indexer] = value instead\n",
      "\n",
      "See the caveats in the documentation: https://pandas.pydata.org/pandas-docs/stable/user_guide/indexing.html#returning-a-view-versus-a-copy\n",
      "  bottom_stores_list['Weekly_Sales_inLakhs'] = bottom_stores_list['Weekly_Sales'].apply(lambda x : x/100000)\n"
     ]
    },
    {
     "data": {
      "text/html": [
       "<div>\n",
       "<style scoped>\n",
       "    .dataframe tbody tr th:only-of-type {\n",
       "        vertical-align: middle;\n",
       "    }\n",
       "\n",
       "    .dataframe tbody tr th {\n",
       "        vertical-align: top;\n",
       "    }\n",
       "\n",
       "    .dataframe thead th {\n",
       "        text-align: right;\n",
       "    }\n",
       "</style>\n",
       "<table border=\"1\" class=\"dataframe\">\n",
       "  <thead>\n",
       "    <tr style=\"text-align: right;\">\n",
       "      <th></th>\n",
       "      <th>Total_Sales(in Lakhs)</th>\n",
       "      <th>count</th>\n",
       "      <th>Store id</th>\n",
       "    </tr>\n",
       "    <tr>\n",
       "      <th>Store</th>\n",
       "      <th></th>\n",
       "      <th></th>\n",
       "      <th></th>\n",
       "    </tr>\n",
       "  </thead>\n",
       "  <tbody>\n",
       "    <tr>\n",
       "      <th>5</th>\n",
       "      <td>454.756889</td>\n",
       "      <td>143</td>\n",
       "      <td>5</td>\n",
       "    </tr>\n",
       "    <tr>\n",
       "      <th>33</th>\n",
       "      <td>371.602220</td>\n",
       "      <td>143</td>\n",
       "      <td>33</td>\n",
       "    </tr>\n",
       "    <tr>\n",
       "      <th>44</th>\n",
       "      <td>432.930878</td>\n",
       "      <td>143</td>\n",
       "      <td>44</td>\n",
       "    </tr>\n",
       "  </tbody>\n",
       "</table>\n",
       "</div>"
      ],
      "text/plain": [
       "       Total_Sales(in Lakhs)  count  Store id\n",
       "Store                                        \n",
       "5                 454.756889    143         5\n",
       "33                371.602220    143        33\n",
       "44                432.930878    143        44"
      ]
     },
     "execution_count": 74,
     "metadata": {},
     "output_type": "execute_result"
    }
   ],
   "source": [
    "# code to visualise the top and bottom perfroming stores \n",
    "\n",
    "top_stores_list['Weekly_Sales_inLakhs'] = top_stores_list['Weekly_Sales'].apply(lambda x : x/100000)\n",
    "bottom_stores_list['Weekly_Sales_inLakhs'] = bottom_stores_list['Weekly_Sales'].apply(lambda x : x/100000)\n",
    "\n",
    "# adding the sales of top  performing stores and grouping them by Store id \n",
    "top_stores_total_sales = top_stores_list.groupby('Store')['Weekly_Sales_inLakhs'].agg(['sum','count'])\n",
    "\n",
    "# renaming columns and creating a store_id column \n",
    "top_stores_total_sales['Store id'] = top_stores_total_sales.index \n",
    "top_stores_total_sales.rename(columns = {'sum':'Total_Sales(in Lakhs)'}, inplace = True)\n",
    "top_stores_total_sales\n",
    "\n",
    "\n",
    "# adding the sales of bottom  performing stores and grouping them by Store id \n",
    "bottom_stores_total_sales = bottom_stores_list.groupby('Store')['Weekly_Sales_inLakhs'].agg(['sum','count'])\n",
    "\n",
    "# renaming columns and creating a store_id column \n",
    "bottom_stores_total_sales['Store id'] = bottom_stores_total_sales.index \n",
    "bottom_stores_total_sales.rename(columns = {'sum':'Total_Sales(in Lakhs)'}, inplace = True)\n",
    "bottom_stores_total_sales"
   ]
  },
  {
   "cell_type": "code",
   "execution_count": 86,
   "metadata": {},
   "outputs": [
    {
     "data": {
      "image/png": "[encoded data removed]",
      "text/plain": [
       "<Figure size 432x288 with 1 Axes>"
      ]
     },
     "metadata": {
      "needs_background": "light"
     },
     "output_type": "display_data"
    },
    {
     "data": {
      "image/png": "[encoded data removed]",
      "text/plain": [
       "<Figure size 432x288 with 1 Axes>"
      ]
     },
     "metadata": {
      "needs_background": "light"
     },
     "output_type": "display_data"
    }
   ],
   "source": [
    "import seaborn as sns\n",
    "plt.figure(figsize=(6,4))\n",
    "plot_top = sns.barplot(x = 'Store id',\n",
    "            y = 'Total_Sales(in Lakhs)',\n",
    "            color='green',\n",
    "            data = top_stores_total_sales)\n",
    " \n",
    "\n",
    "plot_top .bar_label(plot_top .containers[0])\n",
    "plt.show()\n",
    "\n",
    "\n",
    "\n",
    "plot_bottom = sns.barplot(x = 'Store id',\n",
    "            y = 'Total_Sales(in Lakhs)',\n",
    "            color='r',\n",
    "            data = bottom_stores_total_sales)\n",
    " \n",
    "\n",
    "plot_bottom.bar_label(plot_bottom.containers[0])\n",
    "\n",
    "\n",
    "# Show the plot\n",
    "plt.show()\n"
   ]
  },
  {
   "cell_type": "markdown",
   "metadata": {},
   "source": [
    "<h2>Temperature Difference Between the high and low selling stores \n"
   ]
  },
  {
   "cell_type": "code",
   "execution_count": 8,
   "metadata": {},
   "outputs": [
    {
     "name": "stdout",
     "output_type": "stream",
     "text": [
      "Top selling store average tempertaure is 58.49857808857808\n",
      "Bottom selling store average tempertaure is 66.61181818181817\n",
      "Percentage Increase in Tempertaure =  13.9 %\n"
     ]
    }
   ],
   "source": [
    "bottom_avg_temp=bottom_stores_list['Temperature'].mean()\n",
    "top_avg_temp=top_stores_list['Temperature'].mean()\n",
    "percentage = ((bottom_avg_temp-top_avg_temp)/top_avg_temp) * 100\n",
    "print(f\"Top selling store average tempertaure is {top_avg_temp}\")\n",
    "print(f\"Bottom selling store average tempertaure is {bottom_avg_temp}\")\n",
    "print(\"Percentage Increase in Tempertaure = \",round(percentage,1),'%')\n",
    "\n",
    "\n",
    "\n"
   ]
  },
  {
   "cell_type": "markdown",
   "metadata": {},
   "source": [
    "<p>Top selling store average tempertaure = 58.49<br>\n",
    "Bottom selling store average tempertaure =  66.61<br>\n",
    "Percentage Increase  =  <b>13.9 %</b>\n",
    "\n",
    "One of the reasons for more Weekly sales could be the ideal temperature at the stores locations \n",
    "This is one of the factors that can be considered when setting up Walmart stores in the near future"
   ]
  },
  {
   "cell_type": "markdown",
   "metadata": {},
   "source": [
    "<h1>Fuel Price Difference Between the Top and Bottom Stores \n",
    "Allan no significant diff "
   ]
  },
  {
   "cell_type": "code",
   "execution_count": 9,
   "metadata": {},
   "outputs": [
    {
     "name": "stdout",
     "output_type": "stream",
     "text": [
      "Top selling store average Fuel Price  is 3.3507296037296035\n",
      "Bottom selling store average Fuel Price  is 3.360589743589741\n",
      "Percentage Increase in Fuel Price  =  1888.0 %\n"
     ]
    }
   ],
   "source": [
    "bottom_avg_fuel=bottom_stores_list['Fuel_Price'].mean()\n",
    "top_avg_fuel=top_stores_list['Fuel_Price'].mean()\n",
    "percentage = ((bottom_avg_temp-top_avg_fuel)/top_avg_fuel) * 100\n",
    "print(f\"Top selling store average Fuel Price  is {top_avg_fuel}\")\n",
    "print(f\"Bottom selling store average Fuel Price  is {bottom_avg_fuel}\")\n",
    "print(\"There is no significant difference between the fuel prices \")"
   ]
  },
  {
   "cell_type": "code",
   "execution_count": 10,
   "metadata": {},
   "outputs": [
    {
     "data": {
      "text/html": [
       "<div>\n",
       "<style scoped>\n",
       "    .dataframe tbody tr th:only-of-type {\n",
       "        vertical-align: middle;\n",
       "    }\n",
       "\n",
       "    .dataframe tbody tr th {\n",
       "        vertical-align: top;\n",
       "    }\n",
       "\n",
       "    .dataframe thead th {\n",
       "        text-align: right;\n",
       "    }\n",
       "</style>\n",
       "<table border=\"1\" class=\"dataframe\">\n",
       "  <thead>\n",
       "    <tr style=\"text-align: right;\">\n",
       "      <th></th>\n",
       "      <th>Store</th>\n",
       "      <th>Date</th>\n",
       "      <th>Weekly_Sales</th>\n",
       "      <th>Holiday_Flag</th>\n",
       "      <th>Temperature</th>\n",
       "      <th>Fuel_Price</th>\n",
       "      <th>CPI</th>\n",
       "      <th>Unemployment</th>\n",
       "    </tr>\n",
       "  </thead>\n",
       "  <tbody>\n",
       "    <tr>\n",
       "      <th>0</th>\n",
       "      <td>1</td>\n",
       "      <td>05-02-2010</td>\n",
       "      <td>1643690.90</td>\n",
       "      <td>0</td>\n",
       "      <td>42.31</td>\n",
       "      <td>2.572</td>\n",
       "      <td>211.096358</td>\n",
       "      <td>8.106</td>\n",
       "    </tr>\n",
       "    <tr>\n",
       "      <th>1</th>\n",
       "      <td>1</td>\n",
       "      <td>12-02-2010</td>\n",
       "      <td>1641957.44</td>\n",
       "      <td>1</td>\n",
       "      <td>38.51</td>\n",
       "      <td>2.548</td>\n",
       "      <td>211.242170</td>\n",
       "      <td>8.106</td>\n",
       "    </tr>\n",
       "    <tr>\n",
       "      <th>2</th>\n",
       "      <td>1</td>\n",
       "      <td>19-02-2010</td>\n",
       "      <td>1611968.17</td>\n",
       "      <td>0</td>\n",
       "      <td>39.93</td>\n",
       "      <td>2.514</td>\n",
       "      <td>211.289143</td>\n",
       "      <td>8.106</td>\n",
       "    </tr>\n",
       "    <tr>\n",
       "      <th>3</th>\n",
       "      <td>1</td>\n",
       "      <td>26-02-2010</td>\n",
       "      <td>1409727.59</td>\n",
       "      <td>0</td>\n",
       "      <td>46.63</td>\n",
       "      <td>2.561</td>\n",
       "      <td>211.319643</td>\n",
       "      <td>8.106</td>\n",
       "    </tr>\n",
       "    <tr>\n",
       "      <th>4</th>\n",
       "      <td>1</td>\n",
       "      <td>05-03-2010</td>\n",
       "      <td>1554806.68</td>\n",
       "      <td>0</td>\n",
       "      <td>46.50</td>\n",
       "      <td>2.625</td>\n",
       "      <td>211.350143</td>\n",
       "      <td>8.106</td>\n",
       "    </tr>\n",
       "  </tbody>\n",
       "</table>\n",
       "</div>"
      ],
      "text/plain": [
       "   Store        Date  Weekly_Sales  Holiday_Flag  Temperature  Fuel_Price  \\\n",
       "0      1  05-02-2010    1643690.90             0        42.31       2.572   \n",
       "1      1  12-02-2010    1641957.44             1        38.51       2.548   \n",
       "2      1  19-02-2010    1611968.17             0        39.93       2.514   \n",
       "3      1  26-02-2010    1409727.59             0        46.63       2.561   \n",
       "4      1  05-03-2010    1554806.68             0        46.50       2.625   \n",
       "\n",
       "          CPI  Unemployment  \n",
       "0  211.096358         8.106  \n",
       "1  211.242170         8.106  \n",
       "2  211.289143         8.106  \n",
       "3  211.319643         8.106  \n",
       "4  211.350143         8.106  "
      ]
     },
     "execution_count": 10,
     "metadata": {},
     "output_type": "execute_result"
    }
   ],
   "source": [
    "df.head()"
   ]
  },
  {
   "cell_type": "code",
   "execution_count": 11,
   "metadata": {},
   "outputs": [
    {
     "data": {
      "text/html": [
       "<div>\n",
       "<style scoped>\n",
       "    .dataframe tbody tr th:only-of-type {\n",
       "        vertical-align: middle;\n",
       "    }\n",
       "\n",
       "    .dataframe tbody tr th {\n",
       "        vertical-align: top;\n",
       "    }\n",
       "\n",
       "    .dataframe thead th {\n",
       "        text-align: right;\n",
       "    }\n",
       "</style>\n",
       "<table border=\"1\" class=\"dataframe\">\n",
       "  <thead>\n",
       "    <tr style=\"text-align: right;\">\n",
       "      <th></th>\n",
       "      <th>Store</th>\n",
       "      <th>Date</th>\n",
       "      <th>Weekly_Sales</th>\n",
       "      <th>Holiday_Flag</th>\n",
       "      <th>Temperature</th>\n",
       "      <th>Fuel_Price</th>\n",
       "      <th>CPI</th>\n",
       "      <th>Unemployment</th>\n",
       "    </tr>\n",
       "  </thead>\n",
       "  <tbody>\n",
       "    <tr>\n",
       "      <th>0</th>\n",
       "      <td>1</td>\n",
       "      <td>05-02-2010</td>\n",
       "      <td>1643690.90</td>\n",
       "      <td>0</td>\n",
       "      <td>42.31</td>\n",
       "      <td>2.572</td>\n",
       "      <td>211.096358</td>\n",
       "      <td>8.106</td>\n",
       "    </tr>\n",
       "    <tr>\n",
       "      <th>1</th>\n",
       "      <td>1</td>\n",
       "      <td>12-02-2010</td>\n",
       "      <td>1641957.44</td>\n",
       "      <td>1</td>\n",
       "      <td>38.51</td>\n",
       "      <td>2.548</td>\n",
       "      <td>211.242170</td>\n",
       "      <td>8.106</td>\n",
       "    </tr>\n",
       "    <tr>\n",
       "      <th>2</th>\n",
       "      <td>1</td>\n",
       "      <td>19-02-2010</td>\n",
       "      <td>1611968.17</td>\n",
       "      <td>0</td>\n",
       "      <td>39.93</td>\n",
       "      <td>2.514</td>\n",
       "      <td>211.289143</td>\n",
       "      <td>8.106</td>\n",
       "    </tr>\n",
       "    <tr>\n",
       "      <th>3</th>\n",
       "      <td>1</td>\n",
       "      <td>26-02-2010</td>\n",
       "      <td>1409727.59</td>\n",
       "      <td>0</td>\n",
       "      <td>46.63</td>\n",
       "      <td>2.561</td>\n",
       "      <td>211.319643</td>\n",
       "      <td>8.106</td>\n",
       "    </tr>\n",
       "    <tr>\n",
       "      <th>4</th>\n",
       "      <td>1</td>\n",
       "      <td>05-03-2010</td>\n",
       "      <td>1554806.68</td>\n",
       "      <td>0</td>\n",
       "      <td>46.50</td>\n",
       "      <td>2.625</td>\n",
       "      <td>211.350143</td>\n",
       "      <td>8.106</td>\n",
       "    </tr>\n",
       "  </tbody>\n",
       "</table>\n",
       "</div>"
      ],
      "text/plain": [
       "   Store        Date  Weekly_Sales  Holiday_Flag  Temperature  Fuel_Price  \\\n",
       "0      1  05-02-2010    1643690.90             0        42.31       2.572   \n",
       "1      1  12-02-2010    1641957.44             1        38.51       2.548   \n",
       "2      1  19-02-2010    1611968.17             0        39.93       2.514   \n",
       "3      1  26-02-2010    1409727.59             0        46.63       2.561   \n",
       "4      1  05-03-2010    1554806.68             0        46.50       2.625   \n",
       "\n",
       "          CPI  Unemployment  \n",
       "0  211.096358         8.106  \n",
       "1  211.242170         8.106  \n",
       "2  211.289143         8.106  \n",
       "3  211.319643         8.106  \n",
       "4  211.350143         8.106  "
      ]
     },
     "execution_count": 11,
     "metadata": {},
     "output_type": "execute_result"
    }
   ],
   "source": [
    "df.head()"
   ]
  },
  {
   "cell_type": "code",
   "execution_count": null,
   "metadata": {},
   "outputs": [],
   "source": []
  },
  {
   "cell_type": "markdown",
   "metadata": {},
   "source": [
    "<h2> Association betwwen Fuel price and Weekly sales "
   ]
  },
  {
   "cell_type": "markdown",
   "metadata": {},
   "source": [
    "On considering the Weekly sales against the Fuel prices around the locality. We understood at higher the fuel price more is the weekly sales."
   ]
  },
  {
   "cell_type": "code",
   "execution_count": 12,
   "metadata": {},
   "outputs": [],
   "source": [
    "# getting basic stats \n",
    "stats = df['Fuel_Price'].describe()\n",
    "min = stats[3]\n",
    "max = stats[7]\n",
    "q1=stats[4]\n",
    "q3=stats[6]\n"
   ]
  },
  {
   "cell_type": "code",
   "execution_count": 13,
   "metadata": {},
   "outputs": [
    {
     "name": "stdout",
     "output_type": "stream",
     "text": [
      "weekly sales of min is 1038218.5893672444\n",
      "weekly sales of max is 1047184.0869021061\n"
     ]
    }
   ],
   "source": [
    "# dataframe containing fuel price between the lowest and first quartile price range \n",
    "min_fuel_data = df[df['Fuel_Price']<=q1]\n",
    "avg_sales_fuel_min=min_fuel_data['Weekly_Sales'].mean()\n",
    "\n",
    "\n",
    "# dataframe containing fuel price between the lowest and first quartile price range \n",
    "max_fuel_data = df[(df['Fuel_Price']>=q3) & (df['Fuel_Price']<=max)]\n",
    "avg_sales_fuel_max=max_fuel_data['Weekly_Sales'].mean()\n",
    "\n",
    "\n",
    "\n",
    "print(f'weekly sales of min is {avg_sales_fuel_min}')\n",
    "print(f'weekly sales of max is {avg_sales_fuel_max}')"
   ]
  },
  {
   "cell_type": "markdown",
   "metadata": {},
   "source": [
    "One of the reasons for such cases can be that the vicinity where the fuel prices are higher have better incomes as compared to people where fuel prices are less\n",
    "<b>Verifying the mentioned  hypothesis "
   ]
  },
  {
   "cell_type": "code",
   "execution_count": 14,
   "metadata": {},
   "outputs": [
    {
     "name": "stdout",
     "output_type": "stream",
     "text": [
      "unemployemnt rate is 8.117\n",
      "unemployemnt rate is 7.931\n",
      "Increase in Unemployemnt rate is  2.35 %\n"
     ]
    }
   ],
   "source": [
    "\n",
    "avg_Unemployment_rate_min = min_fuel_data['Unemployment'].median()\n",
    "avg_Unemployment_rate_max= max_fuel_data['Unemployment'].median()\n",
    "\n",
    "print(f\"unemployemnt rate is {avg_Unemployment_rate_min}\")\n",
    "print(f\"unemployemnt rate is {avg_Unemployment_rate_max}\")\n",
    "\n",
    "unemployment_percent_increase =((avg_Unemployment_rate_min - avg_Unemployment_rate_max)/avg_Unemployment_rate_max)*100\n",
    "print('Increase in Unemployemnt rate is ',round(unemployment_percent_increase,2),\"%\")\n"
   ]
  },
  {
   "cell_type": "markdown",
   "metadata": {},
   "source": [
    "We can see there is a <b>2.35%</b> increase in unemployemnt rate when comparing the low_fuel_area stores and high_fuel_area stores "
   ]
  },
  {
   "cell_type": "markdown",
   "metadata": {},
   "source": [
    "<h1>Association with Holiday Flag and Weekly sales "
   ]
  },
  {
   "cell_type": "code",
   "execution_count": 15,
   "metadata": {},
   "outputs": [
    {
     "name": "stdout",
     "output_type": "stream",
     "text": [
      "Holdiya week Sales = 1122887.8923555554 Non Holiday week sales = 1041256.3802088564\n",
      "7.84 %\n"
     ]
    }
   ],
   "source": [
    "holiday_week = df[df['Holiday_Flag']==1]\n",
    "non_holdiay_week = df[df['Holiday_Flag']==0]\n",
    "\n",
    "x=holiday_week['Weekly_Sales'].mean()\n",
    "y=non_holdiay_week['Weekly_Sales'].mean()\n",
    "print(f'Holdiya week Sales = {x} Non Holiday week sales = { y}')\n",
    "percentage_increase_holiday_y_n = round(((x-y)/y)*100,2)\n",
    "print(percentage_increase_holiday_y_n,'%')\n",
    "\n",
    "\n"
   ]
  },
  {
   "cell_type": "markdown",
   "metadata": {},
   "source": [
    "We can see that there is a <b>7.84 %</b> percentage increase in sales as compared to weeks which have holidays during the week. This suggests Walmart stores that if holidays occur during the week one can expect decent amount of sales and one can apply marketing strategies to further benefit the stores  "
   ]
  },
  {
   "cell_type": "markdown",
   "metadata": {},
   "source": [
    "<p>Upon further comparing the results of Holiday week sales as comparing to the top and bottom performing sales "
   ]
  },
  {
   "cell_type": "code",
   "execution_count": 16,
   "metadata": {},
   "outputs": [
    {
     "name": "stdout",
     "output_type": "stream",
     "text": [
      "620.24 %\n"
     ]
    }
   ],
   "source": [
    "\n",
    "\n",
    "top_stores_holiday_yes= top_stores_list[top_stores_list['Holiday_Flag']==1]\n",
    "avg_sales_holiday_yes_topStores=top_stores_holiday_yes['Weekly_Sales'].mean()\n",
    "\n",
    "\n",
    "bottom_stores_holiday_yes = bottom_stores_list[bottom_stores_list['Holiday_Flag']==1]\n",
    "avg_sales_holiday_yes_bottomStores=bottom_stores_holiday_yes['Weekly_Sales'].mean()\n",
    "\n",
    "\n",
    "percentage_change = ((avg_sales_holiday_yes_topStores-avg_sales_holiday_yes_bottomStores)/avg_sales_holiday_yes_bottomStores)*100\n",
    "\n",
    "print(round((percentage_change),2),'%')"
   ]
  },
  {
   "cell_type": "markdown",
   "metadata": {},
   "source": [
    "We can see that when comparing the bottom and top performing Walmart stores there is a <b>620.24 %</b> increase in sales "
   ]
  },
  {
   "cell_type": "code",
   "execution_count": null,
   "metadata": {},
   "outputs": [],
   "source": []
  },
  {
   "cell_type": "code",
   "execution_count": 17,
   "metadata": {},
   "outputs": [
    {
     "data": {
      "text/html": [
       "<div>\n",
       "<style scoped>\n",
       "    .dataframe tbody tr th:only-of-type {\n",
       "        vertical-align: middle;\n",
       "    }\n",
       "\n",
       "    .dataframe tbody tr th {\n",
       "        vertical-align: top;\n",
       "    }\n",
       "\n",
       "    .dataframe thead th {\n",
       "        text-align: right;\n",
       "    }\n",
       "</style>\n",
       "<table border=\"1\" class=\"dataframe\">\n",
       "  <thead>\n",
       "    <tr style=\"text-align: right;\">\n",
       "      <th></th>\n",
       "      <th>Store</th>\n",
       "      <th>Weekly_Sales</th>\n",
       "      <th>Holiday_Flag</th>\n",
       "      <th>Temperature</th>\n",
       "      <th>Fuel_Price</th>\n",
       "      <th>CPI</th>\n",
       "      <th>Unemployment</th>\n",
       "    </tr>\n",
       "  </thead>\n",
       "  <tbody>\n",
       "    <tr>\n",
       "      <th>count</th>\n",
       "      <td>6435.000000</td>\n",
       "      <td>6.435000e+03</td>\n",
       "      <td>6435.000000</td>\n",
       "      <td>6435.000000</td>\n",
       "      <td>6435.000000</td>\n",
       "      <td>6435.000000</td>\n",
       "      <td>6435.000000</td>\n",
       "    </tr>\n",
       "    <tr>\n",
       "      <th>mean</th>\n",
       "      <td>23.000000</td>\n",
       "      <td>1.046965e+06</td>\n",
       "      <td>0.069930</td>\n",
       "      <td>60.663782</td>\n",
       "      <td>3.358607</td>\n",
       "      <td>171.578394</td>\n",
       "      <td>7.999151</td>\n",
       "    </tr>\n",
       "    <tr>\n",
       "      <th>std</th>\n",
       "      <td>12.988182</td>\n",
       "      <td>5.643666e+05</td>\n",
       "      <td>0.255049</td>\n",
       "      <td>18.444933</td>\n",
       "      <td>0.459020</td>\n",
       "      <td>39.356712</td>\n",
       "      <td>1.875885</td>\n",
       "    </tr>\n",
       "    <tr>\n",
       "      <th>min</th>\n",
       "      <td>1.000000</td>\n",
       "      <td>2.099862e+05</td>\n",
       "      <td>0.000000</td>\n",
       "      <td>-2.060000</td>\n",
       "      <td>2.472000</td>\n",
       "      <td>126.064000</td>\n",
       "      <td>3.879000</td>\n",
       "    </tr>\n",
       "    <tr>\n",
       "      <th>25%</th>\n",
       "      <td>12.000000</td>\n",
       "      <td>5.533501e+05</td>\n",
       "      <td>0.000000</td>\n",
       "      <td>47.460000</td>\n",
       "      <td>2.933000</td>\n",
       "      <td>131.735000</td>\n",
       "      <td>6.891000</td>\n",
       "    </tr>\n",
       "    <tr>\n",
       "      <th>50%</th>\n",
       "      <td>23.000000</td>\n",
       "      <td>9.607460e+05</td>\n",
       "      <td>0.000000</td>\n",
       "      <td>62.670000</td>\n",
       "      <td>3.445000</td>\n",
       "      <td>182.616521</td>\n",
       "      <td>7.874000</td>\n",
       "    </tr>\n",
       "    <tr>\n",
       "      <th>75%</th>\n",
       "      <td>34.000000</td>\n",
       "      <td>1.420159e+06</td>\n",
       "      <td>0.000000</td>\n",
       "      <td>74.940000</td>\n",
       "      <td>3.735000</td>\n",
       "      <td>212.743293</td>\n",
       "      <td>8.622000</td>\n",
       "    </tr>\n",
       "    <tr>\n",
       "      <th>max</th>\n",
       "      <td>45.000000</td>\n",
       "      <td>3.818686e+06</td>\n",
       "      <td>1.000000</td>\n",
       "      <td>100.140000</td>\n",
       "      <td>4.468000</td>\n",
       "      <td>227.232807</td>\n",
       "      <td>14.313000</td>\n",
       "    </tr>\n",
       "  </tbody>\n",
       "</table>\n",
       "</div>"
      ],
      "text/plain": [
       "             Store  Weekly_Sales  Holiday_Flag  Temperature   Fuel_Price  \\\n",
       "count  6435.000000  6.435000e+03   6435.000000  6435.000000  6435.000000   \n",
       "mean     23.000000  1.046965e+06      0.069930    60.663782     3.358607   \n",
       "std      12.988182  5.643666e+05      0.255049    18.444933     0.459020   \n",
       "min       1.000000  2.099862e+05      0.000000    -2.060000     2.472000   \n",
       "25%      12.000000  5.533501e+05      0.000000    47.460000     2.933000   \n",
       "50%      23.000000  9.607460e+05      0.000000    62.670000     3.445000   \n",
       "75%      34.000000  1.420159e+06      0.000000    74.940000     3.735000   \n",
       "max      45.000000  3.818686e+06      1.000000   100.140000     4.468000   \n",
       "\n",
       "               CPI  Unemployment  \n",
       "count  6435.000000   6435.000000  \n",
       "mean    171.578394      7.999151  \n",
       "std      39.356712      1.875885  \n",
       "min     126.064000      3.879000  \n",
       "25%     131.735000      6.891000  \n",
       "50%     182.616521      7.874000  \n",
       "75%     212.743293      8.622000  \n",
       "max     227.232807     14.313000  "
      ]
     },
     "execution_count": 17,
     "metadata": {},
     "output_type": "execute_result"
    }
   ],
   "source": [
    "df.describe()"
   ]
  },
  {
   "cell_type": "markdown",
   "metadata": {},
   "source": [
    "<h2> Creating a new column for Holiday Event name \n"
   ]
  },
  {
   "cell_type": "markdown",
   "metadata": {},
   "source": [
    "Thi is used to check the sales during the holiday days \n",
    "and figure out the top seling stores and bottom selling stores dsales stats wrt to Holidays "
   ]
  },
  {
   "cell_type": "code",
   "execution_count": 18,
   "metadata": {},
   "outputs": [
    {
     "data": {
      "text/html": [
       "<div>\n",
       "<style scoped>\n",
       "    .dataframe tbody tr th:only-of-type {\n",
       "        vertical-align: middle;\n",
       "    }\n",
       "\n",
       "    .dataframe tbody tr th {\n",
       "        vertical-align: top;\n",
       "    }\n",
       "\n",
       "    .dataframe thead th {\n",
       "        text-align: right;\n",
       "    }\n",
       "</style>\n",
       "<table border=\"1\" class=\"dataframe\">\n",
       "  <thead>\n",
       "    <tr style=\"text-align: right;\">\n",
       "      <th></th>\n",
       "      <th>Store</th>\n",
       "      <th>Date</th>\n",
       "      <th>Weekly_Sales</th>\n",
       "      <th>Holiday_Flag</th>\n",
       "      <th>Temperature</th>\n",
       "      <th>Fuel_Price</th>\n",
       "      <th>CPI</th>\n",
       "      <th>Unemployment</th>\n",
       "    </tr>\n",
       "  </thead>\n",
       "  <tbody>\n",
       "    <tr>\n",
       "      <th>6425</th>\n",
       "      <td>45</td>\n",
       "      <td>24-08-2012</td>\n",
       "      <td>718232.26</td>\n",
       "      <td>0</td>\n",
       "      <td>72.62</td>\n",
       "      <td>3.834</td>\n",
       "      <td>191.344887</td>\n",
       "      <td>8.684</td>\n",
       "    </tr>\n",
       "    <tr>\n",
       "      <th>6426</th>\n",
       "      <td>45</td>\n",
       "      <td>31-08-2012</td>\n",
       "      <td>734297.87</td>\n",
       "      <td>0</td>\n",
       "      <td>75.09</td>\n",
       "      <td>3.867</td>\n",
       "      <td>191.461281</td>\n",
       "      <td>8.684</td>\n",
       "    </tr>\n",
       "    <tr>\n",
       "      <th>6427</th>\n",
       "      <td>45</td>\n",
       "      <td>07-09-2012</td>\n",
       "      <td>766512.66</td>\n",
       "      <td>1</td>\n",
       "      <td>75.70</td>\n",
       "      <td>3.911</td>\n",
       "      <td>191.577676</td>\n",
       "      <td>8.684</td>\n",
       "    </tr>\n",
       "    <tr>\n",
       "      <th>6428</th>\n",
       "      <td>45</td>\n",
       "      <td>14-09-2012</td>\n",
       "      <td>702238.27</td>\n",
       "      <td>0</td>\n",
       "      <td>67.87</td>\n",
       "      <td>3.948</td>\n",
       "      <td>191.699850</td>\n",
       "      <td>8.684</td>\n",
       "    </tr>\n",
       "    <tr>\n",
       "      <th>6429</th>\n",
       "      <td>45</td>\n",
       "      <td>21-09-2012</td>\n",
       "      <td>723086.20</td>\n",
       "      <td>0</td>\n",
       "      <td>65.32</td>\n",
       "      <td>4.038</td>\n",
       "      <td>191.856704</td>\n",
       "      <td>8.684</td>\n",
       "    </tr>\n",
       "    <tr>\n",
       "      <th>6430</th>\n",
       "      <td>45</td>\n",
       "      <td>28-09-2012</td>\n",
       "      <td>713173.95</td>\n",
       "      <td>0</td>\n",
       "      <td>64.88</td>\n",
       "      <td>3.997</td>\n",
       "      <td>192.013558</td>\n",
       "      <td>8.684</td>\n",
       "    </tr>\n",
       "    <tr>\n",
       "      <th>6431</th>\n",
       "      <td>45</td>\n",
       "      <td>05-10-2012</td>\n",
       "      <td>733455.07</td>\n",
       "      <td>0</td>\n",
       "      <td>64.89</td>\n",
       "      <td>3.985</td>\n",
       "      <td>192.170412</td>\n",
       "      <td>8.667</td>\n",
       "    </tr>\n",
       "    <tr>\n",
       "      <th>6432</th>\n",
       "      <td>45</td>\n",
       "      <td>12-10-2012</td>\n",
       "      <td>734464.36</td>\n",
       "      <td>0</td>\n",
       "      <td>54.47</td>\n",
       "      <td>4.000</td>\n",
       "      <td>192.327265</td>\n",
       "      <td>8.667</td>\n",
       "    </tr>\n",
       "    <tr>\n",
       "      <th>6433</th>\n",
       "      <td>45</td>\n",
       "      <td>19-10-2012</td>\n",
       "      <td>718125.53</td>\n",
       "      <td>0</td>\n",
       "      <td>56.47</td>\n",
       "      <td>3.969</td>\n",
       "      <td>192.330854</td>\n",
       "      <td>8.667</td>\n",
       "    </tr>\n",
       "    <tr>\n",
       "      <th>6434</th>\n",
       "      <td>45</td>\n",
       "      <td>26-10-2012</td>\n",
       "      <td>760281.43</td>\n",
       "      <td>0</td>\n",
       "      <td>58.85</td>\n",
       "      <td>3.882</td>\n",
       "      <td>192.308899</td>\n",
       "      <td>8.667</td>\n",
       "    </tr>\n",
       "  </tbody>\n",
       "</table>\n",
       "</div>"
      ],
      "text/plain": [
       "      Store        Date  Weekly_Sales  Holiday_Flag  Temperature  Fuel_Price  \\\n",
       "6425     45  24-08-2012     718232.26             0        72.62       3.834   \n",
       "6426     45  31-08-2012     734297.87             0        75.09       3.867   \n",
       "6427     45  07-09-2012     766512.66             1        75.70       3.911   \n",
       "6428     45  14-09-2012     702238.27             0        67.87       3.948   \n",
       "6429     45  21-09-2012     723086.20             0        65.32       4.038   \n",
       "6430     45  28-09-2012     713173.95             0        64.88       3.997   \n",
       "6431     45  05-10-2012     733455.07             0        64.89       3.985   \n",
       "6432     45  12-10-2012     734464.36             0        54.47       4.000   \n",
       "6433     45  19-10-2012     718125.53             0        56.47       3.969   \n",
       "6434     45  26-10-2012     760281.43             0        58.85       3.882   \n",
       "\n",
       "             CPI  Unemployment  \n",
       "6425  191.344887         8.684  \n",
       "6426  191.461281         8.684  \n",
       "6427  191.577676         8.684  \n",
       "6428  191.699850         8.684  \n",
       "6429  191.856704         8.684  \n",
       "6430  192.013558         8.684  \n",
       "6431  192.170412         8.667  \n",
       "6432  192.327265         8.667  \n",
       "6433  192.330854         8.667  \n",
       "6434  192.308899         8.667  "
      ]
     },
     "execution_count": 18,
     "metadata": {},
     "output_type": "execute_result"
    }
   ],
   "source": [
    "df.tail(10)"
   ]
  },
  {
   "cell_type": "code",
   "execution_count": 19,
   "metadata": {},
   "outputs": [],
   "source": [
    "# Function to create a new column called Holiday_name and based on that assign values \n",
    "def holiday_groups(x):\n",
    "    if (x == '12-02-2010') | (x=='11-02-2011') | (x=='10-02-0212')| (x=='08-02-2013') :\n",
    "        return 'Super Bowl'\n",
    "\n",
    "    elif (x == '07-09-2012') |( x=='10-09-2010')|( x=='09-09-2011')|(x=='06-09-2013'):\n",
    "        return 'Labour Day' \n",
    "   \n",
    "    elif (x=='26-11-2010')| (x=='25-11-2011')|( x=='23-11-2012')|(x=='29-11-2013'):\n",
    "        return 'Thanksgiving'\n",
    " \n",
    "    elif (x=='31-12-2010') |( x=='30-12-2011')|( x=='28-12-2011')|(x=='27-12-2011'):\n",
    "        return 'Christmas'\n",
    "    else:\n",
    "        return 'Not a Holiday'\n",
    "\n",
    "df['Holiday_Name'] = df['Date'].apply(holiday_groups)\n",
    "\n"
   ]
  },
  {
   "cell_type": "code",
   "execution_count": 20,
   "metadata": {},
   "outputs": [
    {
     "data": {
      "text/plain": [
       "array(['Not a Holiday', 'Super Bowl', 'Labour Day', 'Thanksgiving',\n",
       "       'Christmas'], dtype=object)"
      ]
     },
     "execution_count": 20,
     "metadata": {},
     "output_type": "execute_result"
    }
   ],
   "source": [
    "df['Holiday_Name'].unique()"
   ]
  },
  {
   "cell_type": "code",
   "execution_count": 21,
   "metadata": {},
   "outputs": [],
   "source": [
    "store_holiday_sales = df.groupby('Holiday_Name')['Weekly_Sales'].mean()\n"
   ]
  },
  {
   "cell_type": "code",
   "execution_count": 22,
   "metadata": {},
   "outputs": [
    {
     "data": {
      "text/plain": [
       "Holiday_Name\n",
       "Christmas        9.608331e+05\n",
       "Labour Day       1.042427e+06\n",
       "Not a Holiday    1.041779e+06\n",
       "Super Bowl       1.063032e+06\n",
       "Thanksgiving     1.471273e+06\n",
       "Name: Weekly_Sales, dtype: float64"
      ]
     },
     "execution_count": 22,
     "metadata": {},
     "output_type": "execute_result"
    }
   ],
   "source": [
    "store_holiday_sales"
   ]
  },
  {
   "cell_type": "code",
   "execution_count": 23,
   "metadata": {},
   "outputs": [],
   "source": [
    "christmas_sales = df[df['Holiday_Name']=='Christmas']\n",
    "labour_day_sales = df[df['Holiday_Name']=='Labour Day']\n",
    "super_bowl_sales = df[df['Holiday_Name']=='Super Bowl']\n",
    "thanksgiving_sales = df[df['Holiday_Name']=='Thanksgiving']"
   ]
  },
  {
   "cell_type": "code",
   "execution_count": 24,
   "metadata": {},
   "outputs": [
    {
     "name": "stdout",
     "output_type": "stream",
     "text": [
      "960833.1115555551\n",
      "1042427.2939259257\n",
      "1063031.893555555\n",
      "1471273.427777778\n"
     ]
    }
   ],
   "source": [
    "print(christmas_sales['Weekly_Sales'].mean())\n",
    "print(labour_day_sales['Weekly_Sales'].mean())\n",
    "print(super_bowl_sales['Weekly_Sales'].mean())\n",
    "print(thanksgiving_sales['Weekly_Sales'].mean())"
   ]
  },
  {
   "cell_type": "code",
   "execution_count": 88,
   "metadata": {},
   "outputs": [
    {
     "name": "stdout",
     "output_type": "stream",
     "text": [
      "***********Top Performing Stores Average Weekly Sales***********\n",
      "Christmas : 1863803.79\n",
      "Labour Day : 2058790.4388888893\n",
      "Super Bowl : 2063545.765\n",
      "Thanksgiving : 2853183.4316666666\n",
      "***********Bottom Performing Stores Average Weekly Sales***********\n",
      "Christams: 264804.01333333337\n",
      "Labour Day: 304155.7622222222\n",
      "Super Bowl: 298140.2783333333\n",
      "Thanksgiving: 351513.205\n"
     ]
    },
    {
     "name": "stderr",
     "output_type": "stream",
     "text": [
      "C:\\Users\\lenovo\\AppData\\Local\\Temp/ipykernel_18948/3145452573.py:1: SettingWithCopyWarning: \n",
      "A value is trying to be set on a copy of a slice from a DataFrame.\n",
      "Try using .loc[row_indexer,col_indexer] = value instead\n",
      "\n",
      "See the caveats in the documentation: https://pandas.pydata.org/pandas-docs/stable/user_guide/indexing.html#returning-a-view-versus-a-copy\n",
      "  top_stores_list['Holiday_Name'] = top_stores_list['Date'].apply(holiday_groups)\n",
      "C:\\Users\\lenovo\\AppData\\Local\\Temp/ipykernel_18948/3145452573.py:19: SettingWithCopyWarning: \n",
      "A value is trying to be set on a copy of a slice from a DataFrame.\n",
      "Try using .loc[row_indexer,col_indexer] = value instead\n",
      "\n",
      "See the caveats in the documentation: https://pandas.pydata.org/pandas-docs/stable/user_guide/indexing.html#returning-a-view-versus-a-copy\n",
      "  bottom_stores_list['Holiday_Name'] = bottom_stores_list['Date'].apply(holiday_groups)\n"
     ]
    }
   ],
   "source": [
    "top_stores_list['Holiday_Name'] = top_stores_list['Date'].apply(holiday_groups)\n",
    "\n",
    "christmas_sales_top = top_stores_list[top_stores_list['Holiday_Name']=='Christmas']\n",
    "labour_day_sales_top = top_stores_list[top_stores_list['Holiday_Name']=='Labour Day']\n",
    "super_bowl_sales_top = top_stores_list[top_stores_list['Holiday_Name']=='Super Bowl']\n",
    "thanksgiving_sales_top = top_stores_list[top_stores_list['Holiday_Name']=='Thanksgiving']\n",
    "\n",
    "print(\"***********Top Performing Stores Average Weekly Sales***********\")\n",
    "\n",
    "print(\"Christmas :\",christmas_sales_top['Weekly_Sales'].mean())\n",
    "print(\"Labour Day :\",labour_day_sales_top['Weekly_Sales'].mean())\n",
    "print(\"Super Bowl :\",super_bowl_sales_top['Weekly_Sales'].mean())\n",
    "print(\"Thanksgiving :\",thanksgiving_sales_top['Weekly_Sales'].mean())\n",
    "\n",
    "\n",
    "\n",
    "\n",
    "\n",
    "bottom_stores_list['Holiday_Name'] = bottom_stores_list['Date'].apply(holiday_groups)\n",
    "\n",
    "christmas_sales_bottom = bottom_stores_list[bottom_stores_list['Holiday_Name']=='Christmas']\n",
    "labour_day_sales_bottom = bottom_stores_list[bottom_stores_list['Holiday_Name']=='Labour Day']\n",
    "super_bowl_sales_bottom = bottom_stores_list[bottom_stores_list['Holiday_Name']=='Super Bowl']\n",
    "thanksgiving_sales_bottom = bottom_stores_list[bottom_stores_list['Holiday_Name']=='Thanksgiving']\n",
    "\n",
    "print(\"***********Bottom Performing Stores Average Weekly Sales***********\")\n",
    "print(\"Christams:\",christmas_sales_bottom['Weekly_Sales'].mean())\n",
    "print(\"Labour Day:\",labour_day_sales_bottom['Weekly_Sales'].mean())\n",
    "print(\"Super Bowl:\",super_bowl_sales_bottom['Weekly_Sales'].mean())\n",
    "print(\"Thanksgiving:\",thanksgiving_sales_bottom['Weekly_Sales'].mean())\n",
    "\n"
   ]
  },
  {
   "cell_type": "markdown",
   "metadata": {},
   "source": [
    "We can see that another thing that differentiates the top and bottom selling Stores are the huge difference in sales during the Holidays. To effectively improve the low performing stores one can use marketing strategies like social media tactics and usage of posters and banners to show users about the offers during the Holiday period   "
   ]
  },
  {
   "cell_type": "markdown",
   "metadata": {},
   "source": [
    "<h1>Key Takeaways</h1>\n",
    "<p>\n",
    "1. The <b>top</b> 3 performing stores are <b>20,4,14</b> and the <b>bottom</b> 3 performing stores are <b>5,44,33</b><br>\n",
    "2. Weekly sales during weeks that consist of holidays are crucial as there was a <b>7.84%</b> increase in sales compared to non-holiday week sales. The bottom performing stores can up their marketing strategies by focusing on weeks that consist of holidays.<br>\n",
    "3. Stores where fuel prices are higher generate more sales as compared to low fuel price located stores. One of the reasons can be the locality where the fuel prices are high have a higher income because we saw there was a <b>2.35%</b> increase in the unemployment rate of bottom-performing stores as compared to the high-performing stores.<br>\n",
    "4. The average temperature of top-performing stores was <b>58.49 units</b> whereas the bottom-performing stores were <b>66.61 units.</b> The ideal temperature of the top stores makes the customers visit more often. This factor can be considered when we would need to set up new Walmart Stores in the Future.<br>\n",
    "</p>\n"
   ]
  },
  {
   "cell_type": "markdown",
   "metadata": {},
   "source": []
  }
 ],
 "metadata": {
  "kernelspec": {
   "display_name": "Python 3.9.7 ('base')",
   "language": "python",
   "name": "python3"
  },
  "language_info": {
   "codemirror_mode": {
    "name": "ipython",
    "version": 3
   },
   "file_extension": ".py",
   "mimetype": "text/x-python",
   "name": "python",
   "nbconvert_exporter": "python",
   "pygments_lexer": "ipython3",
   "version": "3.9.7"
  },
  "orig_nbformat": 4,
  "vscode": {
   "interpreter": {
    "hash": "a71a9e4fb054fff428071484f7faa898cb9ecb31a518fe88e3463da9af879578"
   }
  }
 },
 "nbformat": 4,
 "nbformat_minor": 2
}
